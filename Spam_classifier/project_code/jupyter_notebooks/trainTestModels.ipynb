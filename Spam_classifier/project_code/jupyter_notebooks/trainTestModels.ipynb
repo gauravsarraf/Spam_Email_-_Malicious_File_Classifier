{
 "cells": [
  {
   "cell_type": "code",
   "execution_count": 1,
   "metadata": {
    "collapsed": true
   },
   "outputs": [],
   "source": [
    "import os\n",
    "import numpy as np\n",
    "from collections import Counter\n",
    "from sklearn.naive_bayes import MultinomialNB\n",
    "from sklearn.metrics import confusion_matrix\n",
    "from sklearn.svm import LinearSVC\n",
    "import pandas as pd"
   ]
  },
  {
   "cell_type": "code",
   "execution_count": 2,
   "metadata": {
    "collapsed": true
   },
   "outputs": [],
   "source": [
    "from sklearn.cross_validation import train_test_split"
   ]
  },
  {
   "cell_type": "code",
   "execution_count": null,
   "metadata": {
    "collapsed": true
   },
   "outputs": [],
   "source": [
    "# third trail\n",
    "\n",
    "def words_generator(fileobj):\n",
    "    for line in fileobj:\n",
    "        for word in line.split():\n",
    "            yield word\n",
    "\n",
    "def make_Dictionary(root_dir):\n",
    "    word_count_dict={}\n",
    "    emails_dirs = [os.path.join(root_dir,f) for f in os.listdir(root_dir)]    \n",
    "    for emails_dir in emails_dirs:\n",
    "        dirs = [os.path.join(emails_dir,f) for f in os.listdir(emails_dir)]\n",
    "        for d in dirs:\n",
    "            emails = [os.path.join(d,f) for f in os.listdir(d)]\n",
    "            \n",
    "            for mail in emails:\n",
    "                file_name = mail.rsplit('/', 1)[-1]\n",
    "                file_dict[file_name] = {}                    \n",
    "                f = open(mail,\"r\")\n",
    "                words = words_generator(f)\n",
    "                for word in words:\n",
    "                    if word.isalpha()==False:\n",
    "                        continue                        \n",
    "                    if word not in word_count_dict:\n",
    "                          word_count_dict[word] = 0\n",
    "                    word_count_dict[word]+= 1                    \n",
    "    return word_count_dict\n"
   ]
  },
  {
   "cell_type": "code",
   "execution_count": null,
   "metadata": {
    "collapsed": true
   },
   "outputs": [],
   "source": [
    "def find_most_frequent_words(word_count_dict):\n",
    "    #word_freq_dict = {}\n",
    "    df = pd.DataFrame(word_count_dict.items(), columns=['word', 'total_freq'])\n",
    "    #df['total_freq'] = df['freq_values'].apply(lambda x: x.get('total'))\n",
    "    print len(df)\n",
    "    df = df.sort(['total_freq'],ascending=False).head(n=3000)\n",
    "    return df['word'].tolist()\n",
    "    \n",
    "    "
   ]
  },
  {
   "cell_type": "code",
   "execution_count": null,
   "metadata": {
    "collapsed": true
   },
   "outputs": [],
   "source": [
    "main_dir = \"/home/datascience/Desktop/SpamFiltering/enronEmailData\"\n",
    "\n",
    "word_count_dict = make_Dictionary(main_dir)\n",
    "\n",
    "freq_words = find_most_frequent_words(word_count_dict)"
   ]
  },
  {
   "cell_type": "code",
   "execution_count": 3,
   "metadata": {},
   "outputs": [],
   "source": [
    "df = pd.read_csv('/home/datascience/Desktop/SpamFiltering/features.csv', sep=',', lineterminator='\\n',\n",
    "                 na_values=['-'])"
   ]
  },
  {
   "cell_type": "code",
   "execution_count": 4,
   "metadata": {},
   "outputs": [],
   "source": [
    "columns = list(df.columns.values)\n",
    "words = columns[:]\n",
    "words.remove(\"is_spam\")\n",
    "words.remove(\"file_name\")\n",
    "words.remove(\"ind\")"
   ]
  },
  {
   "cell_type": "code",
   "execution_count": 5,
   "metadata": {},
   "outputs": [],
   "source": [
    "df_spam = pd.DataFrame()\n",
    "df_spam[\"is_spam\"] = df[\"is_spam\"]\n",
    "df.drop('is_spam', axis=1, inplace=True)"
   ]
  },
  {
   "cell_type": "code",
   "execution_count": 6,
   "metadata": {
    "collapsed": true
   },
   "outputs": [],
   "source": [
    "df.drop('file_name', axis=1, inplace=True)\n",
    "df.drop('ind', axis=1, inplace=True)"
   ]
  },
  {
   "cell_type": "code",
   "execution_count": 7,
   "metadata": {},
   "outputs": [
    {
     "data": {
      "text/html": [
       "<div style=\"max-height:1000px;max-width:1500px;overflow:auto;\">\n",
       "<table border=\"1\" class=\"dataframe\">\n",
       "  <thead>\n",
       "    <tr style=\"text-align: right;\">\n",
       "      <th></th>\n",
       "      <th>the</th>\n",
       "      <th>to</th>\n",
       "      <th>and</th>\n",
       "      <th>of</th>\n",
       "      <th>a</th>\n",
       "      <th>in</th>\n",
       "      <th>for</th>\n",
       "      <th>you</th>\n",
       "      <th>is</th>\n",
       "      <th>this</th>\n",
       "      <th>...</th>\n",
       "      <th>georgia</th>\n",
       "      <th>confident</th>\n",
       "      <th>asp</th>\n",
       "      <th>alliance</th>\n",
       "      <th>representatives</th>\n",
       "      <th>dealers</th>\n",
       "      <th>capabilities</th>\n",
       "      <th>eastrans</th>\n",
       "      <th>oh</th>\n",
       "      <th>addressed</th>\n",
       "    </tr>\n",
       "  </thead>\n",
       "  <tbody>\n",
       "  </tbody>\n",
       "</table>\n",
       "<p>0 rows × 3000 columns</p>\n",
       "</div>"
      ],
      "text/plain": [
       "Empty DataFrame\n",
       "Columns: [the, to, and, of, a, in, for, you, is, this, enron, on, that, i, s, with, your, be, we, as, from, have, it, will, are, ect, or, at, by, not, our, com, if, company, all, please, an, has, can, was, hou, any, me, e, would, no, new, its, more, subject, my, am, but, may, information, t, do, which, re, time, business, about, up, been, one, gas, said, they, out, energy, us, http, get, here, email, he, pm, their, message, these, price, know, cc, there, now, also, only, other, so, mail, need, what, over, power, vince, m, thanks, market, some, like, ...]\n",
       "Index: []\n",
       "\n",
       "[0 rows x 3000 columns]"
      ]
     },
     "execution_count": 7,
     "metadata": {},
     "output_type": "execute_result"
    }
   ],
   "source": [
    "df[pd.isnull(df).any(axis=1)]"
   ]
  },
  {
   "cell_type": "code",
   "execution_count": 7,
   "metadata": {},
   "outputs": [],
   "source": [
    "X_train, X_test, y_train, y_test = train_test_split(df,df_spam, train_size = 0.6)\n"
   ]
  },
  {
   "cell_type": "code",
   "execution_count": 17,
   "metadata": {},
   "outputs": [
    {
     "data": {
      "text/plain": [
       "6618"
      ]
     },
     "execution_count": 17,
     "metadata": {},
     "output_type": "execute_result"
    }
   ],
   "source": [
    "np.count_nonzero(y_test == 0)"
   ]
  },
  {
   "cell_type": "code",
   "execution_count": 18,
   "metadata": {},
   "outputs": [
    {
     "data": {
      "text/plain": [
       "13469"
      ]
     },
     "execution_count": 18,
     "metadata": {},
     "output_type": "execute_result"
    }
   ],
   "source": [
    "len(y_test)"
   ]
  },
  {
   "cell_type": "code",
   "execution_count": null,
   "metadata": {},
   "outputs": [
    {
     "name": "stderr",
     "output_type": "stream",
     "text": [
      "/usr/local/lib/python2.7/dist-packages/sklearn/svm/base.py:441: DataConversionWarning: A column-vector y was passed when a 1d array was expected. Please change the shape of y to (n_samples, ), for example using ravel().\n",
      "  y_ = column_or_1d(y, warn=True)\n"
     ]
    }
   ],
   "source": [
    "from sklearn.svm import SVC\n",
    "svc2 = SVC(kernel=\"poly\")\n",
    "svc2.fit(X_train,y_train)\n",
    "\n",
    "svcresult2 = svc2.predict(X_test)\n",
    "print confusion_matrix(y_test, svcresult2)\n"
   ]
  },
  {
   "cell_type": "code",
   "execution_count": 40,
   "metadata": {},
   "outputs": [
    {
     "name": "stderr",
     "output_type": "stream",
     "text": [
      "/usr/local/lib/python2.7/dist-packages/sklearn/preprocessing/label.py:125: DataConversionWarning: A column-vector y was passed when a 1d array was expected. Please change the shape of y to (n_samples, ), for example using ravel().\n",
      "  y = column_or_1d(y, warn=True)\n"
     ]
    },
    {
     "name": "stdout",
     "output_type": "stream",
     "text": [
      "[[6465  153]\n",
      " [ 128 6723]]\n"
     ]
    }
   ],
   "source": [
    "model1 = LinearSVC()\n",
    "model1.fit(X_train,y_train)\n",
    "\n",
    "result1 = model1.predict(X_test)\n",
    "print confusion_matrix(y_test, result1)"
   ]
  },
  {
   "cell_type": "code",
   "execution_count": 41,
   "metadata": {},
   "outputs": [
    {
     "data": {
      "text/plain": [
       "(array([ 0.98058547,  0.97774869]),\n",
       " array([ 0.97688123,  0.9813166 ]),\n",
       " array([ 0.97872985,  0.97952939]),\n",
       " array([6618, 6851]))"
      ]
     },
     "execution_count": 41,
     "metadata": {},
     "output_type": "execute_result"
    }
   ],
   "source": [
    "precision_recall_fscore_support(y_test,result1,pos_label=0)"
   ]
  },
  {
   "cell_type": "code",
   "execution_count": 8,
   "metadata": {},
   "outputs": [
    {
     "name": "stderr",
     "output_type": "stream",
     "text": [
      "/usr/local/lib/python2.7/dist-packages/sklearn/naive_bayes.py:150: DataConversionWarning: A column-vector y was passed when a 1d array was expected. Please change the shape of y to (n_samples, ), for example using ravel().\n",
      "  y = column_or_1d(y, warn=True)\n"
     ]
    },
    {
     "name": "stdout",
     "output_type": "stream",
     "text": [
      "[[5831  787]\n",
      " [ 159 6692]]\n"
     ]
    }
   ],
   "source": [
    "from sklearn.naive_bayes import GaussianNB\n",
    "gaussianclf = GaussianNB()\n",
    "gaussianclf.fit(X_train,y_train)\n",
    "gaussianclfresult = gaussianclf.predict(X_test)\n",
    "print confusion_matrix(y_test, gaussianclfresult)"
   ]
  },
  {
   "cell_type": "code",
   "execution_count": 30,
   "metadata": {},
   "outputs": [
    {
     "data": {
      "text/plain": [
       "(array([ 0.97345576,  0.89477203]),\n",
       " array([ 0.8810819 ,  0.97679171]),\n",
       " array([ 0.92496827,  0.93398465]),\n",
       " array([6618, 6851]))"
      ]
     },
     "execution_count": 30,
     "metadata": {},
     "output_type": "execute_result"
    }
   ],
   "source": [
    "# f1 score Gaussian NB\n",
    "from sklearn.metrics import precision_recall_fscore_support, f1_score,precision_score\n",
    "precision_recall_fscore_support(y_test,gaussianclfresult,pos_label=1)"
   ]
  },
  {
   "cell_type": "code",
   "execution_count": 25,
   "metadata": {},
   "outputs": [
    {
     "data": {
      "text/plain": [
       "(array([ 0.97345576,  0.89477203]),\n",
       " array([ 0.8810819 ,  0.97679171]),\n",
       " array([ 0.92496827,  0.93398465]),\n",
       " array([6618, 6851]))"
      ]
     },
     "execution_count": 25,
     "metadata": {},
     "output_type": "execute_result"
    }
   ],
   "source": [
    "precision_recall_fscore_support(y_test,gaussianclfresult,pos_label=0)"
   ]
  },
  {
   "cell_type": "code",
   "execution_count": 32,
   "metadata": {},
   "outputs": [
    {
     "data": {
      "text/plain": [
       "0.89477202834603553"
      ]
     },
     "execution_count": 32,
     "metadata": {},
     "output_type": "execute_result"
    }
   ],
   "source": [
    "precision_score(y_test,gaussianclfresult,pos_label=1)"
   ]
  },
  {
   "cell_type": "code",
   "execution_count": 33,
   "metadata": {},
   "outputs": [
    {
     "name": "stderr",
     "output_type": "stream",
     "text": [
      "/usr/local/lib/python2.7/dist-packages/sklearn/naive_bayes.py:301: DataConversionWarning: A column-vector y was passed when a 1d array was expected. Please change the shape of y to (n_samples, ), for example using ravel().\n",
      "  y = column_or_1d(y, warn=True)\n"
     ]
    },
    {
     "name": "stdout",
     "output_type": "stream",
     "text": [
      "[[5995  623]\n",
      " [  67 6784]]\n"
     ]
    }
   ],
   "source": [
    "from sklearn.naive_bayes import BernoulliNB\n",
    "bernoulliclf = BernoulliNB()\n",
    "bernoulliclf.fit(X_train,y_train)\n",
    "bernoulliclfresult = bernoulliclf.predict(X_test)\n",
    "print confusion_matrix(y_test, bernoulliclfresult)"
   ]
  },
  {
   "cell_type": "code",
   "execution_count": 35,
   "metadata": {},
   "outputs": [
    {
     "data": {
      "text/plain": [
       "(array([ 0.98894754,  0.91589037]),\n",
       " array([ 0.9058628 ,  0.99022041]),\n",
       " array([ 0.9455836 ,  0.95160612]),\n",
       " array([6618, 6851]))"
      ]
     },
     "execution_count": 35,
     "metadata": {},
     "output_type": "execute_result"
    }
   ],
   "source": [
    "precision_recall_fscore_support(y_test,bernoulliclfresult,pos_label=0)"
   ]
  },
  {
   "cell_type": "code",
   "execution_count": 36,
   "metadata": {},
   "outputs": [
    {
     "name": "stderr",
     "output_type": "stream",
     "text": [
      "/usr/local/lib/python2.7/dist-packages/sklearn/naive_bayes.py:301: DataConversionWarning: A column-vector y was passed when a 1d array was expected. Please change the shape of y to (n_samples, ), for example using ravel().\n",
      "  y = column_or_1d(y, warn=True)\n"
     ]
    },
    {
     "name": "stdout",
     "output_type": "stream",
     "text": [
      "[[6417  201]\n",
      " [ 142 6709]]\n"
     ]
    }
   ],
   "source": [
    "model2 = MultinomialNB()\n",
    "model2.fit(X_train,y_train)\n",
    "result2 = model2.predict(X_test)\n",
    "print confusion_matrix(y_test, result2)"
   ]
  },
  {
   "cell_type": "code",
   "execution_count": 37,
   "metadata": {},
   "outputs": [
    {
     "data": {
      "text/plain": [
       "(array([ 0.97835036,  0.97091172]),\n",
       " array([ 0.96962829,  0.9792731 ]),\n",
       " array([ 0.9739698 ,  0.97507449]),\n",
       " array([6618, 6851]))"
      ]
     },
     "execution_count": 37,
     "metadata": {},
     "output_type": "execute_result"
    }
   ],
   "source": [
    "precision_recall_fscore_support(y_test,result2,pos_label=0)"
   ]
  },
  {
   "cell_type": "code",
   "execution_count": 42,
   "metadata": {},
   "outputs": [
    {
     "name": "stdout",
     "output_type": "stream",
     "text": [
      "[[6226  392]\n",
      " [ 339 6512]]\n"
     ]
    }
   ],
   "source": [
    "# simple decision tree classifier\n",
    "\n",
    "from sklearn import tree\n",
    "decisionTree = tree.DecisionTreeClassifier()\n",
    "decisionTree = decisionTree.fit(X_train,y_train)\n",
    "\n",
    "decisionTreeResult = decisionTree.predict(X_test)\n",
    "print confusion_matrix(y_test, decisionTreeResult)"
   ]
  },
  {
   "cell_type": "code",
   "execution_count": 43,
   "metadata": {},
   "outputs": [
    {
     "data": {
      "text/plain": [
       "(array([ 0.94836253,  0.94322132]),\n",
       " array([ 0.9407676 ,  0.95051817]),\n",
       " array([ 0.9445498 ,  0.94685569]),\n",
       " array([6618, 6851]))"
      ]
     },
     "execution_count": 43,
     "metadata": {},
     "output_type": "execute_result"
    }
   ],
   "source": [
    "precision_recall_fscore_support(y_test,decisionTreeResult,pos_label=0)"
   ]
  },
  {
   "cell_type": "code",
   "execution_count": 21,
   "metadata": {},
   "outputs": [
    {
     "name": "stdout",
     "output_type": "stream",
     "text": [
      "[[6195  394]\n",
      " [ 326 6554]]\n"
     ]
    }
   ],
   "source": [
    "# decision tree classifier variant (3 sec) \n",
    "decisionTree1 = tree.DecisionTreeClassifier(max_depth=None, min_samples_split=2,random_state=0)\n",
    "decisionTree1 = decisionTree1.fit(X_train,y_train)\n",
    "\n",
    "decisionTreeResult1 = decisionTree1.predict(X_test)\n",
    "print confusion_matrix(y_test, decisionTreeResult1)"
   ]
  },
  {
   "cell_type": "code",
   "execution_count": 39,
   "metadata": {},
   "outputs": [
    {
     "name": "stdout",
     "output_type": "stream",
     "text": [
      "[[6224  394]\n",
      " [ 349 6502]]\n"
     ]
    }
   ],
   "source": [
    "# decision tree classifier variant (3 sec) \n",
    "from sklearn import tree\n",
    "decisionTree1 = tree.DecisionTreeClassifier(max_depth=None, min_samples_split=2)\n",
    "decisionTree1 = decisionTree1.fit(X_train,y_train)\n",
    "\n",
    "decisionTreeResult1 = decisionTree1.predict(X_test)\n",
    "print confusion_matrix(y_test, decisionTreeResult1)"
   ]
  },
  {
   "cell_type": "code",
   "execution_count": 16,
   "metadata": {},
   "outputs": [
    {
     "name": "stderr",
     "output_type": "stream",
     "text": [
      "/usr/local/lib/python2.7/dist-packages/ipykernel/__main__.py:3: DataConversionWarning: A column-vector y was passed when a 1d array was expected. Please change the shape of y to (n_samples, ), for example using ravel().\n",
      "  app.launch_new_instance()\n"
     ]
    },
    {
     "name": "stdout",
     "output_type": "stream",
     "text": [
      "[[5626  963]\n",
      " [ 205 6675]]\n"
     ]
    }
   ],
   "source": [
    "\n",
    "# 25 min\n",
    "from sklearn.neighbors import KNeighborsClassifier\n",
    "neigh = KNeighborsClassifier(n_neighbors=3) \n",
    "neigh.fit(X_train, y_train) \n",
    "neighResult = neigh.predict(X_test)\n",
    "print confusion_matrix(y_test, neighResult)"
   ]
  },
  {
   "cell_type": "code",
   "execution_count": 17,
   "metadata": {},
   "outputs": [
    {
     "name": "stderr",
     "output_type": "stream",
     "text": [
      "/usr/local/lib/python2.7/dist-packages/ipykernel/__main__.py:3: DataConversionWarning: A column-vector y was passed when a 1d array was expected. Please change the shape of y to (n_samples, ), for example using ravel().\n",
      "  app.launch_new_instance()\n"
     ]
    },
    {
     "name": "stdout",
     "output_type": "stream",
     "text": [
      "[[6386  203]\n",
      " [ 223 6657]]\n"
     ]
    }
   ],
   "source": [
    "# Random forest classifier (1 sec)\n",
    "from sklearn.ensemble import RandomForestClassifier\n",
    "randomForest = RandomForestClassifier(n_estimators=10)\n",
    "randomForest = randomForest.fit(X_train, y_train)\n",
    "randomForestResult = randomForest.predict(X_test)\n",
    "print confusion_matrix(y_test, randomForestResult)"
   ]
  },
  {
   "cell_type": "code",
   "execution_count": 44,
   "metadata": {},
   "outputs": [
    {
     "name": "stderr",
     "output_type": "stream",
     "text": [
      "/usr/local/lib/python2.7/dist-packages/ipykernel/__main__.py:4: DataConversionWarning: A column-vector y was passed when a 1d array was expected. Please change the shape of y to (n_samples, ), for example using ravel().\n"
     ]
    },
    {
     "name": "stdout",
     "output_type": "stream",
     "text": [
      "[[6509  109]\n",
      " [ 255 6596]]\n"
     ]
    }
   ],
   "source": [
    "# extra trees classifier (2 sec)\n",
    "from sklearn.ensemble import ExtraTreesClassifier\n",
    "extraTrees = ExtraTreesClassifier(n_estimators=10, max_depth=None,min_samples_split=2, random_state=0)\n",
    "extraTrees = extraTrees.fit(X_train, y_train)\n",
    "extraTreesResult = extraTrees.predict(X_test)\n",
    "print confusion_matrix(y_test, extraTreesResult)"
   ]
  },
  {
   "cell_type": "code",
   "execution_count": 45,
   "metadata": {},
   "outputs": [
    {
     "data": {
      "text/plain": [
       "(array([ 0.96230041,  0.98374348]),\n",
       " array([ 0.98352977,  0.96277916]),\n",
       " array([ 0.97279928,  0.97314842]),\n",
       " array([6618, 6851]))"
      ]
     },
     "execution_count": 45,
     "metadata": {},
     "output_type": "execute_result"
    }
   ],
   "source": [
    "precision_recall_fscore_support(y_test,extraTreesResult,pos_label=0)"
   ]
  },
  {
   "cell_type": "code",
   "execution_count": 47,
   "metadata": {},
   "outputs": [
    {
     "name": "stderr",
     "output_type": "stream",
     "text": [
      "/usr/local/lib/python2.7/dist-packages/ipykernel/__main__.py:4: DataConversionWarning: A column-vector y was passed when a 1d array was expected. Please change the shape of y to (n_samples, ), for example using ravel().\n"
     ]
    },
    {
     "name": "stdout",
     "output_type": "stream",
     "text": [
      "[[6440  178]\n",
      " [ 221 6630]]\n"
     ]
    }
   ],
   "source": [
    "from sklearn.ensemble import RandomForestClassifier\n",
    "\n",
    "randomForest1 = RandomForestClassifier(n_estimators=10, max_depth=None,min_samples_split=2, random_state=0)\n",
    "randomForest1 = randomForest1.fit(X_train, y_train)\n",
    "randomForestResult1 = randomForest1.predict(X_test)\n",
    "print confusion_matrix(y_test, randomForestResult1)"
   ]
  },
  {
   "cell_type": "code",
   "execution_count": 48,
   "metadata": {},
   "outputs": [
    {
     "data": {
      "text/plain": [
       "(array([ 0.96230041,  0.98374348]),\n",
       " array([ 0.98352977,  0.96277916]),\n",
       " array([ 0.97279928,  0.97314842]),\n",
       " array([6618, 6851]))"
      ]
     },
     "execution_count": 48,
     "metadata": {},
     "output_type": "execute_result"
    }
   ],
   "source": [
    "precision_recall_fscore_support(y_test,extraTreesResult,pos_label=0)"
   ]
  },
  {
   "cell_type": "code",
   "execution_count": null,
   "metadata": {
    "collapsed": true
   },
   "outputs": [],
   "source": [
    "import csv\n",
    "your_file = \"/home/datascience/words.csv\"\n",
    "with open(your_file, \"r\") as f:\n",
    "    data = [x for x in csv.reader(f, delimiter='\\t')]\n",
    "with open(your_file, \"w\") as f:    \n",
    "    w = csv.writer(f, delimiter=',')\n",
    "    w.writerows(data)"
   ]
  }
 ],
 "metadata": {
  "kernelspec": {
   "display_name": "Python 3",
   "language": "python",
   "name": "python3"
  },
  "language_info": {
   "codemirror_mode": {
    "name": "ipython",
    "version": 3
   },
   "file_extension": ".py",
   "mimetype": "text/x-python",
   "name": "python",
   "nbconvert_exporter": "python",
   "pygments_lexer": "ipython3",
   "version": "3.7.1"
  }
 },
 "nbformat": 4,
 "nbformat_minor": 1
}
